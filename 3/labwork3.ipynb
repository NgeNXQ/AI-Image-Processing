{
 "cells": [
  {
   "cell_type": "markdown",
   "metadata": {},
   "source": [
    "# Лабораторна робота № 3. ІП-14 Бабіч Денис"
   ]
  },
  {
   "cell_type": "markdown",
   "metadata": {},
   "source": [
    "## Імпортування необхідних модулів"
   ]
  },
  {
   "cell_type": "code",
   "execution_count": 2,
   "metadata": {},
   "outputs": [],
   "source": [
    "import cv2\n",
    "import numpy"
   ]
  },
  {
   "cell_type": "code",
   "execution_count": 3,
   "metadata": {},
   "outputs": [],
   "source": [
    "image = cv2.imread(\"Data/road.jpg\")\n",
    "\n",
    "cv2.imshow(\"Input image\", image)\n",
    "\n",
    "cv2.waitKey(0)\n",
    "cv2.destroyAllWindows()"
   ]
  },
  {
   "cell_type": "code",
   "execution_count": 4,
   "metadata": {},
   "outputs": [],
   "source": [
    "grayscale = cv2.cvtColor(image, cv2.COLOR_BGR2GRAY)\n",
    "\n",
    "cv2.imshow(\"Grayscale input image\", grayscale)\n",
    "\n",
    "cv2.waitKey(0)\n",
    "cv2.destroyAllWindows()"
   ]
  },
  {
   "cell_type": "code",
   "execution_count": 5,
   "metadata": {},
   "outputs": [],
   "source": [
    "KERNEL_SIZE = 5\n",
    "\n",
    "blur = cv2.GaussianBlur(grayscale, (KERNEL_SIZE, KERNEL_SIZE), 0)\n",
    "\n",
    "cv2.imshow(\"Blurred input image\", blur)\n",
    "\n",
    "cv2.waitKey(0)\n",
    "cv2.destroyAllWindows()"
   ]
  },
  {
   "cell_type": "code",
   "execution_count": 6,
   "metadata": {},
   "outputs": [],
   "source": [
    "low_t = 50\n",
    "high_t = 150\n",
    "edges = cv2.Canny(blur, low_t, high_t)\n",
    "\n",
    "cv2.imshow(\"Input image\", edges)\n",
    "\n",
    "cv2.waitKey(0)\n",
    "cv2.destroyAllWindows()"
   ]
  },
  {
   "cell_type": "code",
   "execution_count": 9,
   "metadata": {},
   "outputs": [],
   "source": [
    "vertices = numpy.array([[(0, image.shape[0]), (450, 310), (490, 310), (image.shape[1], image.shape[0])]], dtype = numpy.int32)\n",
    "\n",
    "mask = numpy.zeros_like(edges)\n",
    "ignore_mask_color = 255\n",
    "cv2.fillPoly(mask, vertices, ignore_mask_color)\n",
    "masked_edges = cv2.bitwise_and(edges, mask)\n",
    "\n",
    "cv2.imshow(\"Input image\", masked_edges)\n",
    "\n",
    "cv2.waitKey(0)\n",
    "cv2.destroyAllWindows()"
   ]
  },
  {
   "cell_type": "code",
   "execution_count": 10,
   "metadata": {},
   "outputs": [],
   "source": [
    "def draw_Lines(img, lines, color = [255, 0, 0], thickness = 7):\n",
    "\n",
    "    x_bottom_pos = []\n",
    "    x_upper_pos = []\n",
    "    x_bottom_neg = []\n",
    "    x_upper_neg = []\n",
    "\n",
    "    y_bottom = 540\n",
    "    y_upper = 315\n",
    "\n",
    "    for line in lines:\n",
    "        for x1, y1, x2, y2 in line:\n",
    "        # test and filter values to slope\n",
    "            if ((y2 - y1) / (x2 - x1)) > 0.5 and ((y2 - y1) / (x2 - x1)) < 0.8:\n",
    "            \n",
    "                slope = ((y2 - y1) / (x2 - x1))\n",
    "                b1 = y1 - slope * x1\n",
    "\n",
    "                x_bottom_pos.append((y_bottom - b1) / slope)\n",
    "                x_upper_pos.append((y_upper - b1) / slope)\n",
    "\n",
    "            elif ((y2 - y1) / (x2 - x1)) < -0.5 and ((y2 - y1) / (x2 - x1)) > -0.8:\n",
    "\n",
    "                slope = ((y2 - y1) / (x2 - x1))\n",
    "                b1 = y1 - slope * x1\n",
    "\n",
    "                x_bottom_neg.append((y_bottom - b1) / slope)\n",
    "                x_upper_neg.append((y_upper - b1) / slope)\n",
    "\n",
    "    # a new 2d array with means\n",
    "    lines_mean = numpy.array([\n",
    "      [int(numpy.mean(x_bottom_pos)), int(numpy.mean(y_bottom)), int(numpy.mean(x_upper_pos)), int(numpy.mean(y_upper))],\n",
    "      [int(numpy.mean(x_bottom_neg)), int(numpy.mean(y_bottom)), int(numpy.mean(x_upper_neg)), int(numpy.mean(y_upper))] ])\n",
    "\n",
    "    # Draw the lines\n",
    "    for i in range(len(lines_mean)):\n",
    "        cv2.line(img, (lines_mean[i, 0], lines_mean[i, 1]), (lines_mean[i, 2], lines_mean[i, 3]), color, thickness)\n"
   ]
  },
  {
   "cell_type": "code",
   "execution_count": 13,
   "metadata": {},
   "outputs": [],
   "source": [
    "rho = 3\n",
    "theta = numpy.pi / 180\n",
    "\n",
    "threshold = 15\n",
    "min_line_length = 150\n",
    "max_line_gap = 60\n",
    "\n",
    "lines = cv2.HoughLinesP(masked_edges, rho, theta, threshold, numpy.array([]), minLineLength = min_line_length, maxLineGap = max_line_gap)\n",
    "\n",
    "draw_Lines(image, lines)\n",
    "\n",
    "cv2.imshow(\"Input image\", image)\n",
    "\n",
    "cv2.waitKey(0)\n",
    "cv2.destroyAllWindows()"
   ]
  },
  {
   "cell_type": "code",
   "execution_count": 12,
   "metadata": {},
   "outputs": [
    {
     "ename": "NameError",
     "evalue": "name 'process_image' is not defined",
     "output_type": "error",
     "traceback": [
      "\u001b[1;31m---------------------------------------------------------------------------\u001b[0m",
      "\u001b[1;31mNameError\u001b[0m                                 Traceback (most recent call last)",
      "Cell \u001b[1;32mIn[12], line 7\u001b[0m\n\u001b[0;32m      4\u001b[0m ret, frame \u001b[38;5;241m=\u001b[39m video_capture\u001b[38;5;241m.\u001b[39mread()\n\u001b[0;32m      6\u001b[0m \u001b[38;5;28;01mif\u001b[39;00m ret:\n\u001b[1;32m----> 7\u001b[0m     \u001b[43mprocess_image\u001b[49m(frame)\n\u001b[0;32m      8\u001b[0m     cv2\u001b[38;5;241m.\u001b[39mimshow(\u001b[38;5;124m\"\u001b[39m\u001b[38;5;124mframe\u001b[39m\u001b[38;5;124m\"\u001b[39m, frame)\n\u001b[0;32m     10\u001b[0m     \u001b[38;5;28;01mif\u001b[39;00m cv2\u001b[38;5;241m.\u001b[39mwaitKey(\u001b[38;5;241m1\u001b[39m) \u001b[38;5;241m&\u001b[39m \u001b[38;5;241m0xFF\u001b[39m \u001b[38;5;241m==\u001b[39m \u001b[38;5;28mord\u001b[39m(\u001b[38;5;124m'\u001b[39m\u001b[38;5;124mq\u001b[39m\u001b[38;5;124m'\u001b[39m):\n",
      "\u001b[1;31mNameError\u001b[0m: name 'process_image' is not defined"
     ]
    }
   ],
   "source": [
    "video_capture = cv2.VideoCapture(\"Data/road.mp4\")\n",
    "\n",
    "while video_capture.isOpened():\n",
    "    ret, frame = video_capture.read()\n",
    "\n",
    "    if ret:\n",
    "        process_image(frame)\n",
    "        cv2.imshow(\"frame\", frame)\n",
    "\n",
    "        if cv2.waitKey(1) & 0xFF == ord('q'):\n",
    "            break\n",
    "    else:\n",
    "        break\n",
    "\n",
    "video_capture.release()\n",
    "cv2.destroyAllWindows()"
   ]
  }
 ],
 "metadata": {
  "kernelspec": {
   "display_name": "Python 3",
   "language": "python",
   "name": "python3"
  },
  "language_info": {
   "codemirror_mode": {
    "name": "ipython",
    "version": 3
   },
   "file_extension": ".py",
   "mimetype": "text/x-python",
   "name": "python",
   "nbconvert_exporter": "python",
   "pygments_lexer": "ipython3",
   "version": "3.12.2"
  }
 },
 "nbformat": 4,
 "nbformat_minor": 2
}
