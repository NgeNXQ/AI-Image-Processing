{
 "cells": [
  {
   "cell_type": "markdown",
   "metadata": {},
   "source": [
    "# Лабораторна робота № 3"
   ]
  },
  {
   "cell_type": "markdown",
   "metadata": {},
   "source": [
    "## ІП-14 Бабіч Денис"
   ]
  },
  {
   "cell_type": "markdown",
   "metadata": {},
   "source": [
    "---"
   ]
  },
  {
   "cell_type": "markdown",
   "metadata": {},
   "source": [
    "# Підготовчий етап"
   ]
  },
  {
   "cell_type": "markdown",
   "metadata": {},
   "source": [
    "## Імпортування необхідних модулів"
   ]
  },
  {
   "cell_type": "code",
   "execution_count": 1,
   "metadata": {},
   "outputs": [],
   "source": [
    "import cv2\n",
    "import numpy as np\n",
    "from typing import List"
   ]
  },
  {
   "cell_type": "markdown",
   "metadata": {},
   "source": [
    "## Створення допоміжних функцій"
   ]
  },
  {
   "cell_type": "code",
   "execution_count": 5,
   "metadata": {},
   "outputs": [],
   "source": [
    "def show_image(image: np.ndarray, title: str = \"\") -> None:\n",
    "    cv2.imshow(title, image)\n",
    "    cv2.waitKey(0)\n",
    "    cv2.destroyAllWindows()\n",
    "\n",
    "def preprocess_image(image: np.ndarray, kernel_size: int, is_debug: bool = False) -> np.ndarray:\n",
    "    grayscale_image = cv2.cvtColor(image, cv2.COLOR_BGR2GRAY)\n",
    "    blurred_image = cv2.GaussianBlur(grayscale_image, (kernel_size, kernel_size), 0)\n",
    "\n",
    "    if is_debug:\n",
    "        show_image(grayscale_image, \"Processed grayscale image\")\n",
    "        show_image(blurred_image, \"Processed blurred grayscale image\")\n",
    "\n",
    "    return blurred_image\n",
    "\n",
    "def get_masked_edges(image: np.ndarray, roi_vertices: np.ndarray, is_debug: bool = False) -> np.ndarray:\n",
    "    ROI_COLOR_POLYGON = (255, 255, 255)\n",
    "    THRESHOLD_LOW = 75\n",
    "    THRESHOLD_HIGH = 200\n",
    "\n",
    "    detected_edges = cv2.Canny(image, THRESHOLD_LOW, THRESHOLD_HIGH)\n",
    "    mask = np.zeros_like(detected_edges)\n",
    "    cv2.fillPoly(mask, [roi_vertices], ROI_COLOR_POLYGON)\n",
    "    masked_image = cv2.bitwise_and(detected_edges, mask)\n",
    "\n",
    "    if is_debug:\n",
    "        ROI_OUTLINE_THICKNESS = 2\n",
    "        ROI_COLOR_OUTLINE = (0, 255, 0)\n",
    "        debug_image = np.zeros_like(image)\n",
    "\n",
    "        show_image(detected_edges, \"Detected edges\")\n",
    "\n",
    "        cv2.fillPoly(debug_image, [roi_vertices], ROI_COLOR_POLYGON)\n",
    "\n",
    "        show_image(debug_image, \"ROI\")\n",
    "\n",
    "        cv2.polylines(debug_image, [roi_vertices.reshape((-1, 1, 2))], isClosed = True, color = ROI_COLOR_OUTLINE, thickness = ROI_OUTLINE_THICKNESS)\n",
    "\n",
    "        debug_image = cv2.bitwise_and(image, debug_image)\n",
    "\n",
    "        show_image(debug_image, \"ROI\")\n",
    "\n",
    "    return masked_image\n",
    "\n",
    "def get_markup_lines(masked_edges: np.ndarray, rho: float, threshold: int, min_length: float, max_gap: float) -> np.ndarray:\n",
    "    THETA = np.pi / 180\n",
    "    lines = cv2.HoughLinesP(masked_edges, rho, THETA, threshold, np.array([]), min_length, max_gap)\n",
    "    return lines\n",
    "\n",
    "def draw_markup_lines(image: np.ndarray, lines: list, color: List[int] = [0, 255, 0], thickness: int = 3):\n",
    "    if lines is None or len(lines) == 0:\n",
    "        return\n",
    "    \n",
    "    x_bottom_pos = []\n",
    "    x_upper_pos = []\n",
    "    x_bottom_neg = []\n",
    "    x_upper_neg = []\n",
    "\n",
    "    y_bottom = image.shape[0]\n",
    "    y_upper = image.shape[0] - image.shape[0] // 2.1\n",
    "\n",
    "    for line in lines:\n",
    "        for x1, y1, x2, y2 in line:\n",
    "            if (x2 - x1) != 0:\n",
    "                if ((y2 - y1) / (x2 - x1)) > 0.1 and ((y2 - y1) / (x2 - x1)) < 1.0:\n",
    "                    slope = ((y2 - y1) / (x2 - x1))\n",
    "                    b1 = y1 - slope * x1\n",
    "                    x_bottom_pos.append((y_bottom - b1) / slope)\n",
    "                    x_upper_pos.append((y_upper - b1) / slope)\n",
    "\n",
    "                elif ((y2 - y1) / (x2 - x1)) < -0.1 and ((y2 - y1) / (x2 - x1)) > -1.0:\n",
    "                    slope = ((y2 - y1) / (x2 - x1))\n",
    "                    b1 = y1 - slope * x1\n",
    "                    x_bottom_neg.append((y_bottom - b1) / slope)\n",
    "                    x_upper_neg.append((y_upper - b1) / slope)\n",
    "\n",
    "    lines_mean = np.array([\n",
    "      [np.mean(x_bottom_pos), np.mean(y_bottom), np.mean(x_upper_pos), np.mean(y_upper)],\n",
    "      [np.mean(x_bottom_neg), np.mean(y_bottom), np.mean(x_upper_neg), np.mean(y_upper)]\n",
    "    ])\n",
    "\n",
    "    for i in range(len(lines_mean)):\n",
    "        if not np.isnan(lines_mean[i, 0]) and not np.isnan(lines_mean[i, 1]) and not np.isnan(lines_mean[i, 2]) and not np.isnan(lines_mean[i, 3]):\n",
    "            cv2.line(image, (int(lines_mean[i, 0]), int(lines_mean[i, 1])), (int(lines_mean[i, 2]), int(lines_mean[i, 3])), color, thickness)\n",
    "\n",
    "def show_markup(image: np.ndarray, roi_vertices: np.ndarray, rho: float, threshold: int, min_length: float, max_gap: float, color: List[int] = [0, 255, 0], thickness: int = 5, is_debug: bool = False) -> None:\n",
    "    if is_debug:\n",
    "        show_image(image, \"Unprocessed stock image\")\n",
    "    \n",
    "    preprocessed_image = preprocess_image(image, 5, is_debug)\n",
    "    detected_edges = get_masked_edges(preprocessed_image, roi_vertices, is_debug)\n",
    "    markup_lines = get_markup_lines(detected_edges, rho, threshold, min_length, max_gap)\n",
    "    draw_markup_lines(image, markup_lines, color, thickness)"
   ]
  },
  {
   "cell_type": "markdown",
   "metadata": {},
   "source": [
    "---"
   ]
  },
  {
   "cell_type": "markdown",
   "metadata": {},
   "source": [
    "# Основний етап"
   ]
  },
  {
   "cell_type": "markdown",
   "metadata": {},
   "source": [
    "## Застосування на прикладі зображення"
   ]
  },
  {
   "cell_type": "code",
   "execution_count": 3,
   "metadata": {},
   "outputs": [],
   "source": [
    "stock_image = cv2.imread(\"Data/image.jpg\")\n",
    "\n",
    "RHO = 1\n",
    "THRESHOLD = 15\n",
    "MAX_LINES_GAP = 1\n",
    "MIN_LINES_LENGTH = 1\n",
    "\n",
    "HEIGHT, WIDTH = stock_image.shape[:2]\n",
    "\n",
    "HALF_WIDTH = WIDTH // 2\n",
    "HALF_HEIGHT = HEIGHT // 2\n",
    "QUARTER_WIDTH = WIDTH // 4\n",
    "QUARTER_HEIGHT = HEIGHT // 4\n",
    "\n",
    "roi_vertices = np.array([\n",
    "    (0, HEIGHT),\n",
    "    (0, HEIGHT - QUARTER_HEIGHT),\n",
    "    (HALF_WIDTH, HALF_HEIGHT),\n",
    "    (WIDTH, HEIGHT - QUARTER_HEIGHT),\n",
    "    (WIDTH, HEIGHT)\n",
    "], dtype = np.int32)\n",
    "\n",
    "show_markup(stock_image, roi_vertices, RHO, THRESHOLD, MIN_LINES_LENGTH, MAX_LINES_GAP, is_debug = True)\n",
    "show_image(stock_image, \"Results\")"
   ]
  },
  {
   "cell_type": "markdown",
   "metadata": {},
   "source": [
    "## Застосування на прикладі відео"
   ]
  },
  {
   "cell_type": "code",
   "execution_count": 6,
   "metadata": {},
   "outputs": [],
   "source": [
    "ESCAPE_KEY = 27\n",
    "\n",
    "RHO = 1\n",
    "THRESHOLD = 7\n",
    "MAX_LINES_GAP = 5\n",
    "MIN_LINES_LENGTH = 10\n",
    "\n",
    "capture = cv2.VideoCapture(\"Data/video.mp4\")\n",
    "fps = int(capture.get(cv2.CAP_PROP_FPS))\n",
    "\n",
    "_, frame = capture.read()\n",
    "\n",
    "HEIGHT, WIDTH = frame.shape[:2]\n",
    "\n",
    "HALF_WIDTH = WIDTH // 2\n",
    "HALF_HEIGHT = HEIGHT // 2\n",
    "QUATER_WIDTH = WIDTH // 4\n",
    "\n",
    "roi_vertices = np.array([\n",
    "    (0, HEIGHT),\n",
    "    (QUATER_WIDTH, HALF_HEIGHT),\n",
    "    (QUATER_WIDTH * 3, HALF_HEIGHT),\n",
    "    (WIDTH, HEIGHT)\n",
    "], dtype = np.int32)\n",
    "\n",
    "while capture.isOpened():\n",
    "    ret, frame = capture.read()\n",
    "\n",
    "    if not ret:\n",
    "        break\n",
    "\n",
    "    show_markup(frame, roi_vertices, RHO, THRESHOLD, MIN_LINES_LENGTH, MAX_LINES_GAP, is_debug = False)\n",
    "    cv2.imshow(\"Playback\", frame)\n",
    "\n",
    "    if cv2.waitKey(fps) & 0xFF == ESCAPE_KEY:\n",
    "        break\n",
    "\n",
    "capture.release()\n",
    "cv2.destroyAllWindows()"
   ]
  }
 ],
 "metadata": {
  "kernelspec": {
   "display_name": "Python 3",
   "language": "python",
   "name": "python3"
  },
  "language_info": {
   "codemirror_mode": {
    "name": "ipython",
    "version": 3
   },
   "file_extension": ".py",
   "mimetype": "text/x-python",
   "name": "python",
   "nbconvert_exporter": "python",
   "pygments_lexer": "ipython3",
   "version": "3.11.0"
  }
 },
 "nbformat": 4,
 "nbformat_minor": 2
}
