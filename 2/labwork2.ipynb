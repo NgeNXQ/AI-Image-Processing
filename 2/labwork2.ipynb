{
 "cells": [
  {
   "cell_type": "markdown",
   "metadata": {},
   "source": [
    "# Лабораторна робота № 2. ІП-14 Бабіч Денис"
   ]
  },
  {
   "cell_type": "markdown",
   "metadata": {},
   "source": [
    "### Імпортування модулів"
   ]
  },
  {
   "cell_type": "code",
   "execution_count": 43,
   "metadata": {},
   "outputs": [],
   "source": [
    "import cv2\n",
    "import numpy"
   ]
  },
  {
   "cell_type": "markdown",
   "metadata": {},
   "source": [
    "### 1. Використовуючи будь-яку фотографію з декількома людьми, виявити на ньому обличчя, очi, усмiшку. Порахувати кiлькiсть осiб на фото."
   ]
  },
  {
   "cell_type": "code",
   "execution_count": 48,
   "metadata": {},
   "outputs": [
    {
     "name": "stdout",
     "output_type": "stream",
     "text": [
      "Було знайдено 6 облич/обличчя!\n"
     ]
    }
   ],
   "source": [
    "_SCALING_FACTOR = 0.25\n",
    "\n",
    "eye_classifier = cv2.CascadeClassifier(f\"{cv2.data.haarcascades}haarcascade_eye.xml\")\n",
    "smile_classifier = cv2.CascadeClassifier(f\"{cv2.data.haarcascades}haarcascade_smile.xml\")\n",
    "face_classifier = cv2.CascadeClassifier(f\"{cv2.data.haarcascades}haarcascade_frontalface_default.xml\")\n",
    "\n",
    "image = cv2.imread(\"Data/1.jpg\")\n",
    "image = cv2.resize(image, None, fx = _SCALING_FACTOR, fy = _SCALING_FACTOR, interpolation = cv2.INTER_AREA)\n",
    "\n",
    "gray_filter = cv2.cvtColor(image, cv2.COLOR_BGR2GRAY)\n",
    "\n",
    "faces = face_classifier.detectMultiScale(image, scaleFactor = 1.05, minNeighbors = 15)\n",
    "\n",
    "print(f\"Було знайдено {len(faces)} облич/обличчя!\")\n",
    "\n",
    "for (x, y, width, height) in faces:\n",
    "    roi_color = image[y:(y + height), x:(x + width)]\n",
    "    roi_gray = gray_filter[y:(y + height), x:(x + width)]\n",
    "\n",
    "    cv2.rectangle(image, (x, y), (x + width, y + height), (0, 255, 0), 2)\n",
    "\n",
    "    eyes = eye_classifier.detectMultiScale(roi_gray, scaleFactor = 1.1, minNeighbors = 5)\n",
    "    smiles = smile_classifier.detectMultiScale(roi_gray, scaleFactor = 1.15, minNeighbors = 17)\n",
    "\n",
    "    for (x, y, width, height) in eyes:\n",
    "       cv2.rectangle(roi_color, (x, y), (x + width, y + height), (255, 0, 0), 2)\n",
    "\n",
    "    for (x, y, width, height) in smiles:\n",
    "       cv2.rectangle(roi_color, (x, y), (x + width, y + height), (0, 0, 255), 2)\n",
    "\n",
    "cv2.imshow(\"Detected face features\", image)\n",
    "\n",
    "cv2.waitKey(0)\n",
    "cv2.destroyAllWindows()"
   ]
  },
  {
   "cell_type": "markdown",
   "metadata": {},
   "source": [
    "### 2. Зробити розпізнавання використовуючи будь-яке відео з обличчям людини, тривалiстю не менше 30 секунд. Можна використати камеру ноутбука."
   ]
  },
  {
   "cell_type": "code",
   "execution_count": 25,
   "metadata": {},
   "outputs": [],
   "source": [
    "_KEY_ESCAPE = '\\x1b'\n",
    "\n",
    "eye_classifier = cv2.CascadeClassifier(f\"{cv2.data.haarcascades}haarcascade_eye.xml\")\n",
    "smile_classifier = cv2.CascadeClassifier(f\"{cv2.data.haarcascades}haarcascade_smile.xml\")\n",
    "face_classifier = cv2.CascadeClassifier(f\"{cv2.data.haarcascades}haarcascade_frontalface_default.xml\")\n",
    "\n",
    "cv2.startWindowThread()\n",
    "\n",
    "capture = cv2.VideoCapture(\"Data/2.mp4\")\n",
    "\n",
    "while True:\n",
    "    _, frame = capture.read()\n",
    "\n",
    "    if frame is None:\n",
    "        break\n",
    "\n",
    "    gray_filter = cv2.cvtColor(frame, cv2.COLOR_BGR2GRAY)\n",
    "\n",
    "    faces = face_classifier.detectMultiScale(gray_filter, scaleFactor = 1.05, minNeighbors = 5)\n",
    "\n",
    "    for (x, y, width, height) in faces:\n",
    "        cv2.rectangle(frame, (x, y), (x + width, y + height), (0, 255, 0), 2)\n",
    "\n",
    "        roi_color = frame[y:(y + height), x:(x + width)]\n",
    "        roi_gray = gray_filter[y:(y + height), x:(x + width)]\n",
    "\n",
    "        eyes = eye_classifier.detectMultiScale(roi_gray, scaleFactor = 1.1, minNeighbors = 5)\n",
    "\n",
    "        for (x, y, width, height) in eyes:\n",
    "            cv2.rectangle(roi_color, (x, y), (x + width, y + height), (255, 0, 0), 2)\n",
    "\n",
    "        smiles = smile_classifier.detectMultiScale(roi_gray, scaleFactor = 1.2, minNeighbors = 125)\n",
    "\n",
    "        for (x, y, width, height) in smiles:\n",
    "            cv2.rectangle(roi_color, (x, y), (x + width, y + height), (0, 0, 255), 2)\n",
    "\n",
    "    cv2.imshow(\"Detected individuals\", frame)\n",
    "\n",
    "    if cv2.waitKey(1) & 0XFF == ord(_KEY_ESCAPE):\n",
    "        break\n",
    "\n",
    "capture.release()\n",
    "cv2.destroyAllWindows()"
   ]
  },
  {
   "cell_type": "markdown",
   "metadata": {},
   "source": [
    "### 3. Обробити вiдеофал, так щоб вiн видiляв пiшоходiв i, по можливостi, їхнi обличчя. Файл можна взяти з youtube i вирiзати ролик тривалiстю не менше 30 секунд."
   ]
  },
  {
   "cell_type": "code",
   "execution_count": 41,
   "metadata": {},
   "outputs": [],
   "source": [
    "_KEY_ESCAPE = '\\x1b'\n",
    "\n",
    "hog_descriptor = cv2.HOGDescriptor()\n",
    "hog_descriptor.setSVMDetector(cv2.HOGDescriptor_getDefaultPeopleDetector())\n",
    "\n",
    "eye_classifier = cv2.CascadeClassifier(f\"{cv2.data.haarcascades}haarcascade_eye.xml\")\n",
    "smile_classifier = cv2.CascadeClassifier(f\"{cv2.data.haarcascades}haarcascade_smile.xml\")\n",
    "face_classifier = cv2.CascadeClassifier(f\"{cv2.data.haarcascades}haarcascade_frontalface_default.xml\")\n",
    "\n",
    "cv2.startWindowThread()\n",
    "\n",
    "capture = cv2.VideoCapture(\"Data/3.mp4\")\n",
    "\n",
    "while True:\n",
    "    _, frame = capture.read()\n",
    "\n",
    "    if frame is None:\n",
    "        break\n",
    "\n",
    "    gray_filter = cv2.cvtColor(frame, cv2.COLOR_BGR2GRAY)\n",
    "\n",
    "    people = hog_descriptor.detectMultiScale(gray_filter, winStride = (8, 8), padding = (16, 16), scale = 1.25)\n",
    "    people = numpy.array([[human_x, human_y, human_x + human_w, human_y + human_h] for (human_x, human_y, human_w, human_h) in people[0]])\n",
    "\n",
    "    for (x, y, width, height) in people:\n",
    "        roi_color = frame[y:(y + height), x:(x + width)]\n",
    "        roi_gray = gray_filter[y:(y + height), x:(x + width)]\n",
    "\n",
    "        cv2.rectangle(frame, (x, y), (width, height), (0, 255, 255), 2)\n",
    "\n",
    "        faces = face_classifier.detectMultiScale(roi_gray, scaleFactor = 1.05, minNeighbors = 5)\n",
    "\n",
    "        for (x, y, width, height) in faces:\n",
    "            cv2.rectangle(roi_color, (x, y), (x + width, y + height), (0, 255, 0), 2)\n",
    "    \n",
    "    cv2.imshow(\"Detected individuals\", frame)\n",
    "\n",
    "    if cv2.waitKey(1) & 0XFF == ord(_KEY_ESCAPE):\n",
    "        break\n",
    "\n",
    "capture.release()\n",
    "cv2.destroyAllWindows()"
   ]
  }
 ],
 "metadata": {
  "kernelspec": {
   "display_name": "Python 3",
   "language": "python",
   "name": "python3"
  },
  "language_info": {
   "codemirror_mode": {
    "name": "ipython",
    "version": 3
   },
   "file_extension": ".py",
   "mimetype": "text/x-python",
   "name": "python",
   "nbconvert_exporter": "python",
   "pygments_lexer": "ipython3",
   "version": "3.12.2"
  }
 },
 "nbformat": 4,
 "nbformat_minor": 2
}
