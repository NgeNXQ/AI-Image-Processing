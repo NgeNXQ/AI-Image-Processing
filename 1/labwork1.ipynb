{
 "cells": [
  {
   "cell_type": "markdown",
   "metadata": {},
   "source": [
    "# Лабораторна робота № 1. ІП-14 Бабіч Денис"
   ]
  },
  {
   "cell_type": "markdown",
   "metadata": {},
   "source": [
    "## Імпортування модулів"
   ]
  },
  {
   "cell_type": "code",
   "execution_count": 1,
   "metadata": {},
   "outputs": [],
   "source": [
    "import cv2\n",
    "import imutils\n",
    "import numpy as np"
   ]
  },
  {
   "cell_type": "markdown",
   "metadata": {},
   "source": [
    "## Зчитування та відображення зображення"
   ]
  },
  {
   "cell_type": "markdown",
   "metadata": {},
   "source": [
    "### Флаг за замовчуванням"
   ]
  },
  {
   "cell_type": "code",
   "execution_count": 8,
   "metadata": {},
   "outputs": [],
   "source": [
    "image1 = cv2.imread(\"Images/1.png\")\n",
    "cv2.imshow(\"Defalut flags\", image1)\n",
    "cv2.waitKey()\n",
    "cv2.destroyAllWindows()"
   ]
  },
  {
   "cell_type": "markdown",
   "metadata": {},
   "source": [
    "### IMREAD_COLOR"
   ]
  },
  {
   "cell_type": "code",
   "execution_count": 9,
   "metadata": {},
   "outputs": [],
   "source": [
    "image1 = cv2.imread(\"Images/1.png\", cv2.IMREAD_COLOR)\n",
    "cv2.imshow(\"IMREAD_COLOR\", image1)\n",
    "cv2.waitKey()\n",
    "cv2.destroyAllWindows()"
   ]
  },
  {
   "cell_type": "markdown",
   "metadata": {},
   "source": [
    "### IMREAD_GRAYSCALE"
   ]
  },
  {
   "cell_type": "code",
   "execution_count": 10,
   "metadata": {},
   "outputs": [],
   "source": [
    "image1 = cv2.imread(\"Images/1.png\", cv2.IMREAD_GRAYSCALE)\n",
    "cv2.imshow(\"IMREAD_GRAYSCALE\", image1)\n",
    "cv2.waitKey()\n",
    "cv2.destroyAllWindows()"
   ]
  },
  {
   "cell_type": "markdown",
   "metadata": {},
   "source": [
    "### IMREAD_UNCHANGED"
   ]
  },
  {
   "cell_type": "code",
   "execution_count": 11,
   "metadata": {},
   "outputs": [],
   "source": [
    "image1 = cv2.imread(\"Images/1.png\", cv2.IMREAD_UNCHANGED)\n",
    "cv2.imshow(\"IMREAD_UNCHANGED\", image1)\n",
    "cv2.waitKey()\n",
    "cv2.destroyAllWindows()"
   ]
  },
  {
   "cell_type": "markdown",
   "metadata": {},
   "source": [
    "## Збреження зображення"
   ]
  },
  {
   "cell_type": "code",
   "execution_count": 12,
   "metadata": {},
   "outputs": [],
   "source": [
    "image1 = cv2.imread(\"Images/1.png\", cv2.IMREAD_GRAYSCALE)\n",
    "cv2.imwrite(\"Images/saved_1.png\", image1)\n",
    "\n",
    "image_saved = cv2.imread(\"Images/saved_1.png\")\n",
    "cv2.imshow(\"Saved image in b&w\", image_saved)\n",
    "cv2.waitKey()\n",
    "cv2.destroyAllWindows()"
   ]
  },
  {
   "cell_type": "markdown",
   "metadata": {},
   "source": [
    "## Робота над окремими пікселями"
   ]
  },
  {
   "cell_type": "code",
   "execution_count": 5,
   "metadata": {},
   "outputs": [],
   "source": [
    "image2 = cv2.imread(\"Images/2.png\", cv2.IMREAD_UNCHANGED)\n",
    "cv2.imshow(\"Before\", image2)\n",
    "cv2.waitKey()\n",
    "cv2.destroyAllWindows()\n",
    "\n",
    "height, width, channels = image2.shape\n",
    "\n",
    "_TRANSPARENT_COLOR  = (255, 255, 255, 0)\n",
    "_DESIRED_COLOR = (147, 112, 219, 1)  # BGR\n",
    "\n",
    "for x in range(width):\n",
    "    for y in range(height):\n",
    "        if np.all(image2[y, x] == _TRANSPARENT_COLOR):\n",
    "            image2[y, x] = _DESIRED_COLOR\n",
    "\n",
    "cv2.imwrite(\"Images/saved_2.png\", image2)\n",
    "\n",
    "image2 = cv2.imread(\"Images/saved_2.png\", cv2.IMREAD_UNCHANGED)\n",
    "cv2.imshow(\"After\", image2)\n",
    "cv2.waitKey()\n",
    "cv2.destroyAllWindows()"
   ]
  },
  {
   "cell_type": "markdown",
   "metadata": {},
   "source": [
    "## Вирізання зображення"
   ]
  },
  {
   "cell_type": "code",
   "execution_count": 9,
   "metadata": {},
   "outputs": [],
   "source": [
    "image3 = cv2.imread(\"Images/3.png\", cv2.IMREAD_UNCHANGED)\n",
    "cv2.imshow(\"Russian S-300 complexes\", image3)\n",
    "\n",
    "x_offset = 1100\n",
    "y_offset = 255\n",
    "\n",
    "width = 100\n",
    "height = 55\n",
    "\n",
    "roi_s300 = image3[y_offset:y_offset + height, x_offset:x_offset + width]\n",
    "cv2.imshow(\"Russian S-300 launchers\", roi_s300)\n",
    "\n",
    "cv2.waitKey()\n",
    "cv2.destroyAllWindows()"
   ]
  },
  {
   "cell_type": "markdown",
   "metadata": {},
   "source": [
    "## Зміна розміну зобарження"
   ]
  },
  {
   "cell_type": "markdown",
   "metadata": {},
   "source": [
    "### Без збереження співвідношення сторін"
   ]
  },
  {
   "cell_type": "code",
   "execution_count": 16,
   "metadata": {},
   "outputs": [],
   "source": [
    "image4 = cv2.imread(\"Images/4.png\", cv2.IMREAD_UNCHANGED)\n",
    "cv2.imshow(\"Before\", image4)\n",
    "cv2.waitKey()\n",
    "cv2.destroyAllWindows()\n",
    "\n",
    "_WIDTH = 250\n",
    "_HEIGHT = 250\n",
    "\n",
    "resized_image = cv2.resize(image4, (_WIDTH, _HEIGHT))\n",
    "cv2.imshow(\"After\", resized_image)\n",
    "cv2.waitKey()\n",
    "cv2.destroyAllWindows()"
   ]
  },
  {
   "cell_type": "markdown",
   "metadata": {},
   "source": [
    "### З збереженням співвідношення сторін"
   ]
  },
  {
   "cell_type": "code",
   "execution_count": 18,
   "metadata": {},
   "outputs": [],
   "source": [
    "image4 = cv2.imread(\"Images/4.png\", cv2.IMREAD_UNCHANGED)\n",
    "cv2.imshow(\"Before\", image4)\n",
    "cv2.waitKey()\n",
    "cv2.destroyAllWindows()\n",
    "\n",
    "height, width = image4.shape[0:2]\n",
    "\n",
    "_ASPECT_RATIO = width / height\n",
    "\n",
    "_NEW_HEIGHT = 250\n",
    "_NEW_WIDTH = int(_NEW_HEIGHT * _ASPECT_RATIO)\n",
    "\n",
    "resized_image = cv2.resize(image4, (_NEW_WIDTH, _NEW_HEIGHT))\n",
    "cv2.imshow(\"After\", resized_image)\n",
    "cv2.waitKey()\n",
    "cv2.destroyAllWindows()"
   ]
  },
  {
   "cell_type": "markdown",
   "metadata": {},
   "source": [
    "### З збереженням співвідношення сторін за допомогою imutils"
   ]
  },
  {
   "cell_type": "code",
   "execution_count": 21,
   "metadata": {},
   "outputs": [],
   "source": [
    "image4 = cv2.imread(\"Images/4.png\", cv2.IMREAD_UNCHANGED)\n",
    "cv2.imshow(\"Before\", image4)\n",
    "cv2.waitKey()\n",
    "cv2.destroyAllWindows()\n",
    "\n",
    "_DESIRED_HEIGHT = 250\n",
    "\n",
    "resized_image = imutils.resize(image4, height = _DESIRED_HEIGHT)\n",
    "cv2.imshow(\"After\", resized_image)\n",
    "cv2.waitKey()\n",
    "cv2.destroyAllWindows()"
   ]
  },
  {
   "cell_type": "markdown",
   "metadata": {},
   "source": [
    "## Виконання обертання зображення"
   ]
  },
  {
   "cell_type": "markdown",
   "metadata": {},
   "source": [
    "### Обертання за допомогою матриці обертання та афінних перетворень"
   ]
  },
  {
   "cell_type": "code",
   "execution_count": 7,
   "metadata": {},
   "outputs": [],
   "source": [
    "image5 = cv2.imread(\"Images/5.jpg\", cv2.IMREAD_UNCHANGED)\n",
    "cv2.imshow(\"Before\", image5)\n",
    "cv2.waitKey()\n",
    "cv2.destroyAllWindows()\n",
    "\n",
    "_HEIGHT, _WIDTH = image5.shape[0:2]\n",
    "_CENTER = (_WIDTH // 2, _HEIGHT // 2)\n",
    "\n",
    "_SCALE = 1.0\n",
    "_ANGLE = 90.0\n",
    "\n",
    "_ROTATION_MATRIX = cv2.getRotationMatrix2D(_CENTER, _ANGLE, _SCALE)\n",
    "image5 = cv2.warpAffine(image5, _ROTATION_MATRIX, (_WIDTH, _HEIGHT))\n",
    "\n",
    "cv2.imshow(\"After\", image5)\n",
    "cv2.waitKey()\n",
    "cv2.destroyAllWindows()"
   ]
  },
  {
   "cell_type": "markdown",
   "metadata": {},
   "source": [
    "### Обертання за допомогою imutils"
   ]
  },
  {
   "cell_type": "code",
   "execution_count": 9,
   "metadata": {},
   "outputs": [],
   "source": [
    "image5 = cv2.imread(\"Images/5.jpg\", cv2.IMREAD_UNCHANGED)\n",
    "cv2.imshow(\"Before\", image5)\n",
    "cv2.waitKey()\n",
    "cv2.destroyAllWindows()\n",
    "\n",
    "_ANGLE = -90.0\n",
    "\n",
    "rotated_image = imutils.rotate(image5, _ANGLE)\n",
    "\n",
    "cv2.imshow(\"After\", rotated_image)\n",
    "cv2.waitKey()\n",
    "cv2.destroyAllWindows()"
   ]
  },
  {
   "cell_type": "markdown",
   "metadata": {},
   "source": [
    "## Додавання блюру"
   ]
  },
  {
   "cell_type": "code",
   "execution_count": 30,
   "metadata": {},
   "outputs": [],
   "source": [
    "_KERNEL_PARAMETER = 101\n",
    "_DISTRIBUTION_DEVIATION = 1\n",
    "_BORDER_TYPE = 0\n",
    "\n",
    "image6 = cv2.imread(\"Images/6.jpg\", cv2.IMREAD_UNCHANGED)\n",
    "blurred_image = cv2.GaussianBlur(image6, (_KERNEL_PARAMETER, _DISTRIBUTION_DEVIATION), _BORDER_TYPE)\n",
    "cv2.imshow(\"Difference\", np.hstack((image6, blurred_image)))\n",
    "cv2.waitKey()\n",
    "cv2.destroyAllWindows()"
   ]
  },
  {
   "cell_type": "markdown",
   "metadata": {},
   "source": [
    "## Робота з примітивами"
   ]
  },
  {
   "cell_type": "code",
   "execution_count": 20,
   "metadata": {},
   "outputs": [],
   "source": [
    "image7 = cv2.imread(\"Images/7.jpg\", cv2.IMREAD_UNCHANGED)\n",
    "cv2.rectangle(image7, (214, 326), (351, 447), (0, 0, 255), 3)\n",
    "cv2.line(image7, (933, 259), (1118, 378), (255, 255, 255), 5)\n",
    "cv2.line(image7, (956, 410), (1090, 240), (255, 255, 255), 5)\n",
    "cv2.polylines(image7,np.int32([np.array([[666, 666], [700, 520], [800, 633], [666, 666]])]), True, [255, 0, 0], 3)\n",
    "cv2.circle(image7, (850, 300), 50, (255, 255, 255), 3)\n",
    "cv2.imshow(\"After-action review\", image7)\n",
    "cv2.waitKey()\n",
    "cv2.destroyAllWindows()\n"
   ]
  },
  {
   "cell_type": "markdown",
   "metadata": {},
   "source": [
    "## Розміщення тексту на зображені"
   ]
  },
  {
   "cell_type": "code",
   "execution_count": 9,
   "metadata": {},
   "outputs": [],
   "source": [
    "image8 = np.zeros((500, 500, 3), np.uint8)\n",
    "cv2.putText(image8, \"SampleText\", (100, 250), cv2.FONT_HERSHEY_PLAIN, 3, (255, 255, 255), 3, cv2.LINE_AA)\n",
    "\n",
    "cv2.imshow(\"Text\", image8)\n",
    "cv2.waitKey()\n",
    "cv2.destroyAllWindows()"
   ]
  }
 ],
 "metadata": {
  "kernelspec": {
   "display_name": "Python 3",
   "language": "python",
   "name": "python3"
  },
  "language_info": {
   "codemirror_mode": {
    "name": "ipython",
    "version": 3
   },
   "file_extension": ".py",
   "mimetype": "text/x-python",
   "name": "python",
   "nbconvert_exporter": "python",
   "pygments_lexer": "ipython3",
   "version": "3.12.2"
  }
 },
 "nbformat": 4,
 "nbformat_minor": 2
}
