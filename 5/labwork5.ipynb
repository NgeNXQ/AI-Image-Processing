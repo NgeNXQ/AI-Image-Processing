{
 "cells": [
  {
   "cell_type": "markdown",
   "metadata": {},
   "source": [
    "# Лабораторна робота № 5"
   ]
  },
  {
   "cell_type": "markdown",
   "metadata": {},
   "source": [
    "## ІП-14 Бабіч Денис"
   ]
  },
  {
   "cell_type": "markdown",
   "metadata": {},
   "source": [
    "---"
   ]
  },
  {
   "cell_type": "markdown",
   "metadata": {},
   "source": [
    "# Підготовчий етап"
   ]
  },
  {
   "cell_type": "markdown",
   "metadata": {},
   "source": [
    "## Імпортування необхідних модулів"
   ]
  },
  {
   "cell_type": "code",
   "execution_count": 1,
   "metadata": {},
   "outputs": [],
   "source": [
    "import cv2\n",
    "import logging\n",
    "import warnings\n",
    "import numpy as np\n",
    "from enum import Enum\n",
    "import tensorflow as tf\n",
    "from imageai.Detection import ObjectDetection, VideoObjectDetection"
   ]
  },
  {
   "cell_type": "markdown",
   "metadata": {},
   "source": [
    "## Допоміжні функції"
   ]
  },
  {
   "cell_type": "code",
   "execution_count": 2,
   "metadata": {},
   "outputs": [],
   "source": [
    "class InputType(Enum):\n",
    "    IMAGE = 0\n",
    "    VIDEO = 1\n",
    "\n",
    "def initialize_detection_model(model_path: str, input_type: InputType) -> ObjectDetection:\n",
    "    tf.get_logger().setLevel(logging.ERROR)\n",
    "    warnings.filterwarnings(\"ignore\", category = UserWarning, message = \".*Argument `alpha` is deprecated.*\")\n",
    "\n",
    "    if (input_type == InputType.IMAGE):\n",
    "        model = ObjectDetection()\n",
    "    else:\n",
    "        model = VideoObjectDetection()\n",
    "\n",
    "    model.setModelTypeAsTinyYOLOv3()\n",
    "    model.setModelPath(model_path)\n",
    "    model.loadModel()\n",
    "\n",
    "    return model\n",
    "\n",
    "def show_image(image: np.array, title: str = \"Preview\") -> None:\n",
    "    cv2.imshow(title, image)\n",
    "    cv2.waitKey(0)\n",
    "    cv2.destroyAllWindows()\n",
    "\n",
    "def overlay_detected_objects(frame_number: int, detected_objects: np.array, objects_count: int, frame: np.array):\n",
    "    OBJECT_NAME_OFFSET = 5\n",
    "    FLOATING_PRECISION = 2\n",
    "    BOX_OUTILNE_THICKNESS = 2\n",
    "    BOX_OUTILNE_COLOR = (0, 255, 0)\n",
    "\n",
    "    for detected_object in detected_objects:\n",
    "        name = detected_object[\"name\"]\n",
    "        x1, y1, x2, y2 = detected_object[\"box_points\"]\n",
    "        percentage_probability = round(detected_object[\"percentage_probability\"], FLOATING_PRECISION)\n",
    "\n",
    "        cv2.rectangle(frame, (x1, y1), (x2, y2), BOX_OUTILNE_COLOR, BOX_OUTILNE_THICKNESS)\n",
    "        cv2.putText(frame, f\"{name} : {percentage_probability}%\", (x1, y1 - OBJECT_NAME_OFFSET), cv2.FONT_HERSHEY_SIMPLEX, 0.5, BOX_OUTILNE_COLOR, BOX_OUTILNE_THICKNESS)\n",
    "\n",
    "    return frame"
   ]
  },
  {
   "cell_type": "markdown",
   "metadata": {},
   "source": [
    "---"
   ]
  },
  {
   "cell_type": "markdown",
   "metadata": {},
   "source": [
    "# Основний етап"
   ]
  },
  {
   "cell_type": "markdown",
   "metadata": {},
   "source": [
    "## Застосування на прикладі зображення"
   ]
  },
  {
   "cell_type": "code",
   "execution_count": 3,
   "metadata": {},
   "outputs": [],
   "source": [
    "PATH_INPUT = \"input/image.jpg\"\n",
    "PATH_OUTPUT = \"output/image.jpg\"\n",
    "PATH_MODEL = \"models/yolo-tiny.h5\"\n",
    "\n",
    "image = cv2.imread(PATH_INPUT)\n",
    "model = initialize_detection_model(PATH_MODEL, InputType.IMAGE)\n",
    "\n",
    "show_image(image, \"Input Image\")\n",
    "\n",
    "_, detected_objects = model.detectObjectsFromImage(input_image = image, \n",
    "                                                   input_type = \"array\", \n",
    "                                                   output_type = \"array\", \n",
    "                                                   display_box = False, \n",
    "                                                   display_object_name = False, \n",
    "                                                   display_percentage_probability = False)\n",
    "\n",
    "overlay_detected_objects(0, detected_objects, 0, image)\n",
    "\n",
    "show_image(image, \"Output Image\")\n",
    "\n",
    "_ = cv2.imwrite(PATH_OUTPUT, image)"
   ]
  },
  {
   "cell_type": "markdown",
   "metadata": {},
   "source": [
    "## Застосування на прикладі відео"
   ]
  },
  {
   "cell_type": "code",
   "execution_count": 4,
   "metadata": {},
   "outputs": [
    {
     "name": "stdout",
     "output_type": "stream",
     "text": [
      "Done!\n"
     ]
    }
   ],
   "source": [
    "PATH_OUTPUT = \"output/\"\n",
    "PATH_INPUT = \"input/video.mp4\"\n",
    "PATH_MODEL = \"models/yolo-tiny.h5\"\n",
    "\n",
    "MIN_PERCENTAGE_PROBABILITY = 30\n",
    "FPS = int(cv2.VideoCapture(\"input/video.mp4\").get(cv2.CAP_PROP_FPS))\n",
    "\n",
    "model = initialize_detection_model(PATH_MODEL, InputType.VIDEO)\n",
    "\n",
    "video_path = model.detectObjectsFromVideo(\n",
    "    input_file_path = PATH_INPUT,\n",
    "    output_file_path = PATH_OUTPUT,\n",
    "    frames_per_second = FPS,\n",
    "    per_frame_function = overlay_detected_objects,\n",
    "    return_detected_frame = True,\n",
    "    minimum_percentage_probability = MIN_PERCENTAGE_PROBABILITY,\n",
    "    save_detected_video = True\n",
    ")\n",
    "\n",
    "print(\"Done!\")"
   ]
  }
 ],
 "metadata": {
  "kernelspec": {
   "display_name": "Python 3",
   "language": "python",
   "name": "python3"
  },
  "language_info": {
   "codemirror_mode": {
    "name": "ipython",
    "version": 3
   },
   "file_extension": ".py",
   "mimetype": "text/x-python",
   "name": "python",
   "nbconvert_exporter": "python",
   "pygments_lexer": "ipython3",
   "version": "3.7.0"
  }
 },
 "nbformat": 4,
 "nbformat_minor": 2
}
